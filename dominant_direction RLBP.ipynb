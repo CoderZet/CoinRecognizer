{
 "cells": [
  {
   "cell_type": "code",
   "execution_count": 2,
   "metadata": {},
   "outputs": [],
   "source": [
    "import numpy as np\n",
    "import matplotlib.pyplot as plt"
   ]
  },
  {
   "cell_type": "code",
   "execution_count": 46,
   "metadata": {},
   "outputs": [
    {
     "data": {
      "image/png": "[encoded data removed]",
      "text/plain": [
       "<Figure size 432x288 with 2 Axes>"
      ]
     },
     "metadata": {
      "needs_background": "light"
     },
     "output_type": "display_data"
    }
   ],
   "source": [
    "import matplotlib.pyplot as plt\n",
    "import numpy as np\n",
    "\n",
    "list1 = np.random.rand(10)*2.1\n",
    "list2 = np.random.rand(10)*3.\n",
    "bins = np.linspace(0, 1, 3)\n",
    "\n",
    "fig, ax = plt.subplots(1,2)\n",
    "ax[0].hist(list1, bins, alpha = 0.5, color = 'r')\n",
    "ax[1].hist(list2, bins, alpha = 0.5, color = 'g')\n",
    "plt.show()"
   ]
  },
  {
   "cell_type": "code",
   "execution_count": 55,
   "metadata": {},
   "outputs": [
    {
     "ename": "SyntaxError",
     "evalue": "invalid syntax (<ipython-input-55-7dd5311345c5>, line 5)",
     "output_type": "error",
     "traceback": [
      "\u001b[1;36m  File \u001b[1;32m\"<ipython-input-55-7dd5311345c5>\"\u001b[1;36m, line \u001b[1;32m5\u001b[0m\n\u001b[1;33m    ctrs = edges[1]+edges[1:len(edges)-1].*diff(edges);   % Create Centres\u001b[0m\n\u001b[1;37m                                          ^\u001b[0m\n\u001b[1;31mSyntaxError\u001b[0m\u001b[1;31m:\u001b[0m invalid syntax\n"
     ]
    }
   ],
   "source": []
  },
  {
   "cell_type": "code",
   "execution_count": 38,
   "metadata": {},
   "outputs": [
    {
     "data": {
      "image/png": "[encoded data removed]",
      "text/plain": [
       "<Figure size 432x288 with 1 Axes>"
      ]
     },
     "metadata": {
      "needs_background": "light"
     },
     "output_type": "display_data"
    },
    {
     "name": "stdout",
     "output_type": "stream",
     "text": [
      "[119 123 114]\n",
      "[-6.57903278 -5.74852308 -4.91801337 -4.08750366 -3.25699396 -2.42648425\n",
      " -1.59597455 -0.76546484  0.06504487  0.89555457  1.72606428  2.55657398\n",
      "  3.38708369  4.2175934   5.0481031   5.87861281  6.70912251  7.53963222\n",
      "  8.37014193  9.20065163 10.03116134]\n",
      "[0.83050971 0.83050971 0.83050971 0.83050971 0.83050971 0.83050971\n",
      " 0.83050971 0.83050971 0.83050971 0.83050971 0.83050971 0.83050971\n",
      " 0.83050971 0.83050971 0.83050971 0.83050971 0.83050971 0.83050971\n",
      " 0.83050971 0.83050971]\n"
     ]
    }
   ],
   "source": [
    "np.random.seed(19680801)\n",
    "number_of_bins = 20\n",
    "\n",
    "# An example of three data sets to compare\n",
    "number_of_data_points = 387\n",
    "labels = [\"A\", \"B\", \"C\"]\n",
    "data_sets = [np.random.normal(0, 1, number_of_data_points),\n",
    "             np.random.normal(6, 1, number_of_data_points),\n",
    "             np.random.normal(-3, 1, number_of_data_points)]\n",
    "\n",
    "# Computed quantities to aid plotting\n",
    "hist_range = (np.min(data_sets), np.max(data_sets))\n",
    "binned_data_sets = [\n",
    "    np.histogram(d, range=hist_range, bins=number_of_bins)[0]\n",
    "    for d in data_sets\n",
    "]\n",
    "binned_maximums = np.max(binned_data_sets, axis=1)\n",
    "x_locations = np.arange(0, sum(binned_maximums), np.max(binned_maximums))\n",
    "\n",
    "# The bin_edges are the same for all of the histograms\n",
    "bin_edges = np.linspace(hist_range[0], hist_range[1], number_of_bins + 1)\n",
    "centers = 0.5 * (bin_edges + np.roll(bin_edges, 1))[:-1]\n",
    "heights = np.diff(bin_edges)\n",
    "\n",
    "# Cycle through and plot each histogram\n",
    "fig, ax = plt.subplots()\n",
    "for x_loc, binned_data in zip(x_locations, binned_data_sets):\n",
    "    lefts = x_loc - 0.5 * binned_data\n",
    "    ax.barh(centers, binned_data, height=heights, left=lefts)\n",
    "\n",
    "ax.set_xticks(x_locations)\n",
    "ax.set_xticklabels(labels)\n",
    "\n",
    "ax.set_ylabel(\"Data values\")\n",
    "ax.set_xlabel(\"Data sets\")\n",
    "\n",
    "plt.show()\n",
    "print(binned_maximums)\n",
    "#print(binned_data_sets)\n",
    "#print(*zip(x_locations, binned_data_sets))\n",
    "#print(hist_range)\n",
    "print(bin_edges)\n",
    "#print(centers)\n",
    "print(heights)"
   ]
  },
  {
   "cell_type": "code",
   "execution_count": null,
   "metadata": {},
   "outputs": [],
   "source": []
  },
  {
   "cell_type": "code",
   "execution_count": null,
   "metadata": {},
   "outputs": [],
   "source": []
  }
 ],
 "metadata": {
  "kernelspec": {
   "display_name": "Python 3",
   "language": "python",
   "name": "python3"
  },
  "language_info": {
   "codemirror_mode": {
    "name": "ipython",
    "version": 3
   },
   "file_extension": ".py",
   "mimetype": "text/x-python",
   "name": "python",
   "nbconvert_exporter": "python",
   "pygments_lexer": "ipython3",
   "version": "3.7.6"
  }
 },
 "nbformat": 4,
 "nbformat_minor": 4
}
